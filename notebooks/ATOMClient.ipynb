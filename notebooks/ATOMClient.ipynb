{
    "cells": [
        {
            "cell_type": "code",
            "execution_count": null,
            "metadata": {
                "azdata_cell_guid": "f6d5ced3-3913-45f5-9cae-757959962af3",
                "language": "python"
            },
            "outputs": [],
            "source": [
                "# from IPython.display import HTML\n",
                "# HTML('''\n",
                "#     <script type=\"text/javascript\">\n",
                "#         IPython.notebook.kernel.execute(\"URL = '\" + window.location + \"'\")\n",
                "#     </script>''')\n",
                "# # print(URL)"
            ]
        },
        {
            "cell_type": "code",
            "execution_count": null,
            "metadata": {},
            "outputs": [],
            "source": []
        }
    ],
    "metadata": {
        "kernelspec": {
            "display_name": "Python 3.10.2 ('.venv': venv)",
            "language": "python",
            "name": "python3"
        },
        "language_info": {
            "codemirror_mode": {
                "name": "ipython",
                "version": 3
            },
            "file_extension": ".py",
            "mimetype": "text/x-python",
            "name": "python",
            "nbconvert_exporter": "python",
            "pygments_lexer": "ipython3",
            "version": "3.10.2"
        },
        "vscode": {
            "interpreter": {
                "hash": "debb5e90ebaf99685b38499bd9835d8c918fa397541c20f2cda451c5f94f9c9b"
            }
        }
    },
    "nbformat": 4,
    "nbformat_minor": 2
}
